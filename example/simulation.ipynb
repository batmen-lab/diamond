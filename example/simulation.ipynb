{
 "cells": [
  {
   "cell_type": "markdown",
   "metadata": {},
   "source": [
    "## Step 1: Import Libraries"
   ]
  },
  {
   "cell_type": "code",
   "execution_count": 2,
   "metadata": {},
   "outputs": [
    {
     "name": "stderr",
     "output_type": "stream",
     "text": [
      "2024-08-01 21:16:09.112651: I tensorflow/core/platform/cpu_feature_guard.cc:182] This TensorFlow binary is optimized to use available CPU instructions in performance-critical operations.\n",
      "To enable the following instructions: SSE4.1 SSE4.2 AVX AVX2 AVX_VNNI FMA, in other operations, rebuild TensorFlow with the appropriate compiler flags.\n"
     ]
    },
    {
     "name": "stdout",
     "output_type": "stream",
     "text": [
      "WARNING:tensorflow:From /home/yifan/miniconda3/envs/batmen/lib/python3.11/site-packages/tensorflow/python/compat/v2_compat.py:107: disable_resource_variables (from tensorflow.python.ops.variable_scope) is deprecated and will be removed in a future version.\n",
      "Instructions for updating:\n",
      "non-resource variables are not supported in the long term\n"
     ]
    },
    {
     "name": "stderr",
     "output_type": "stream",
     "text": [
      "IProgress not found. Please update jupyter and ipywidgets. See https://ipywidgets.readthedocs.io/en/stable/user_install.html\n",
      "WARNING:tensorflow:From /home/yifan/miniconda3/envs/batmen/lib/python3.11/site-packages/tensorflow/python/compat/v2_compat.py:107: disable_resource_variables (from tensorflow.python.ops.variable_scope) is deprecated and will be removed in a future version.\n",
      "Instructions for updating:\n",
      "non-resource variables are not supported in the long term\n"
     ]
    }
   ],
   "source": [
    "import sys\n",
    "import warnings\n",
    "\n",
    "warnings.filterwarnings(\"ignore\", message=\".*The 'nopython' keyword.*\")\n",
    "sys.path.insert(1, '../src/')\n",
    "\n",
    "from fdr_control import fdr_control\n",
    "from sim import train_and_explain\n",
    "from visualize_results import visualize_results"
   ]
  },
  {
   "cell_type": "markdown",
   "metadata": {},
   "source": [
    "## Step 2: Train and Explain the Model"
   ]
  },
  {
   "cell_type": "markdown",
   "metadata": {},
   "source": [
    "To train and explain your chosen model using the provided code snippet, follow these steps:\n",
    "\n",
    "1. **Set Function Number:**  \n",
    "   Adjust the `func_num` argument to the desired function number as specified in the paper.\n",
    "\n",
    "2. **Select Model Type:**  \n",
    "   Set the `model_type` argument to the model you prefer. The available models are:\n",
    "   - `nn`: Neural Network\n",
    "   - `lightgbm`: LightGBM\n",
    "   - `xgboost`: XGBoost\n",
    "   - `fm`: Factorization Machine\n",
    "\n",
    "3. **Choose Explanation Method (for Neural Networks):**  \n",
    "   If using neural networks, set the `explainer` argument to one of the following:\n",
    "   - `eg`: Expected Gradients / Hessian\n",
    "   - `ig`: Integrated Gradients / Hessian\n",
    "   - `topo`: Network Topology-based Explanation\n",
    "\n",
    "4. **Select Knockoff Generation Method:**  \n",
    "   Set the `knockoff` argument to the preferred method. The supported methods include:\n",
    "   - `knockoffgan`: KnockoffGAN\n",
    "   - `deepknockoffs`: DeepKnockoffs\n",
    "   - `vaeknockoff`: VAEKnockoff\n",
    "   - `knockoffsdiag`: KnockoffsDiagnostics\n",
    "\n",
    "After running the code, the explanations will be saved in the `output/simulation/{model_type}_{knockoff}` or `output/simulation/{model_type}_{knockoff}_{explainer}` directory based on the model and knockoff method used."
   ]
  },
  {
   "cell_type": "code",
   "execution_count": 3,
   "metadata": {},
   "outputs": [
    {
     "name": "stderr",
     "output_type": "stream",
     "text": [
      "100%|██████████| 30/30 [00:00<00:00, 2558.23it/s]\n",
      "30it [00:00, 46637.92it/s]\n"
     ]
    },
    {
     "name": "stdout",
     "output_type": "stream",
     "text": [
      "Epoch 99: 100%|██████████| 55/55 [00:00<00:00, 366.37it/s, v_num=3, train_loss_step=0.000363, val_loss=0.000664, train_loss_epoch=0.000486]\n"
     ]
    },
    {
     "name": "stderr",
     "output_type": "stream",
     "text": [
      "100%|██████████| 7/7 [00:01<00:00,  5.30it/s]\n",
      "100%|██████████| 30/30 [00:00<00:00, 99864.38it/s]\n",
      "30it [00:00, 99469.66it/s]\n"
     ]
    },
    {
     "name": "stdout",
     "output_type": "stream",
     "text": [
      "Epoch 99: 100%|██████████| 55/55 [00:00<00:00, 368.02it/s, v_num=4, train_loss_step=0.000307, val_loss=0.000671, train_loss_epoch=0.000438]\n"
     ]
    },
    {
     "name": "stderr",
     "output_type": "stream",
     "text": [
      "100%|██████████| 7/7 [00:01<00:00,  5.38it/s]\n",
      "100%|██████████| 30/30 [00:00<00:00, 103733.82it/s]\n",
      "30it [00:00, 96717.23it/s]\n"
     ]
    },
    {
     "name": "stdout",
     "output_type": "stream",
     "text": [
      "Epoch 99: 100%|██████████| 55/55 [00:00<00:00, 338.42it/s, v_num=5, train_loss_step=0.0004, val_loss=0.000605, train_loss_epoch=0.000444]  \n"
     ]
    },
    {
     "name": "stderr",
     "output_type": "stream",
     "text": [
      "100%|██████████| 7/7 [00:01<00:00,  5.48it/s]\n",
      "100%|██████████| 30/30 [00:00<00:00, 99627.17it/s]\n",
      "30it [00:00, 67073.09it/s]\n"
     ]
    },
    {
     "name": "stdout",
     "output_type": "stream",
     "text": [
      "Epoch 99: 100%|██████████| 55/55 [00:00<00:00, 377.28it/s, v_num=6, train_loss_step=0.00023, val_loss=0.000629, train_loss_epoch=0.000434] \n"
     ]
    },
    {
     "name": "stderr",
     "output_type": "stream",
     "text": [
      "100%|██████████| 7/7 [00:01<00:00,  5.31it/s]\n",
      "100%|██████████| 30/30 [00:00<00:00, 95469.74it/s]\n",
      "30it [00:00, 101230.19it/s]\n"
     ]
    },
    {
     "name": "stdout",
     "output_type": "stream",
     "text": [
      "Epoch 90: 100%|██████████| 55/55 [00:00<00:00, 337.05it/s, v_num=7, train_loss_step=0.00051, val_loss=0.00089, train_loss_epoch=0.000455]  \n"
     ]
    },
    {
     "name": "stderr",
     "output_type": "stream",
     "text": [
      "100%|██████████| 7/7 [00:01<00:00,  5.29it/s]\n",
      "100%|██████████| 30/30 [00:00<00:00, 105827.69it/s]\n",
      "30it [00:00, 118149.41it/s]\n"
     ]
    },
    {
     "name": "stdout",
     "output_type": "stream",
     "text": [
      "Epoch 99: 100%|██████████| 55/55 [00:00<00:00, 401.47it/s, v_num=8, train_loss_step=0.000503, val_loss=0.00083, train_loss_epoch=0.000478] \n"
     ]
    },
    {
     "name": "stderr",
     "output_type": "stream",
     "text": [
      "100%|██████████| 7/7 [00:01<00:00,  5.50it/s]\n",
      "100%|██████████| 30/30 [00:00<00:00, 92250.09it/s]\n",
      "30it [00:00, 69174.89it/s]\n"
     ]
    },
    {
     "name": "stdout",
     "output_type": "stream",
     "text": [
      "Epoch 99: 100%|██████████| 55/55 [00:00<00:00, 356.45it/s, v_num=9, train_loss_step=0.000447, val_loss=0.000617, train_loss_epoch=0.000409]\n"
     ]
    },
    {
     "name": "stderr",
     "output_type": "stream",
     "text": [
      "100%|██████████| 7/7 [00:01<00:00,  4.95it/s]\n",
      "100%|██████████| 30/30 [00:00<00:00, 110473.33it/s]\n",
      "30it [00:00, 101721.20it/s]\n"
     ]
    },
    {
     "name": "stdout",
     "output_type": "stream",
     "text": [
      "Epoch 99: 100%|██████████| 55/55 [00:00<00:00, 396.27it/s, v_num=10, train_loss_step=0.000307, val_loss=0.00059, train_loss_epoch=0.000335] \n"
     ]
    },
    {
     "name": "stderr",
     "output_type": "stream",
     "text": [
      "100%|██████████| 7/7 [00:01<00:00,  5.40it/s]\n",
      "100%|██████████| 30/30 [00:00<00:00, 102051.19it/s]\n",
      "30it [00:00, 74720.38it/s]\n"
     ]
    },
    {
     "name": "stdout",
     "output_type": "stream",
     "text": [
      "Epoch 94: 100%|██████████| 55/55 [00:00<00:00, 397.35it/s, v_num=11, train_loss_step=0.000692, val_loss=0.000867, train_loss_epoch=0.000574]\n"
     ]
    },
    {
     "name": "stderr",
     "output_type": "stream",
     "text": [
      "100%|██████████| 7/7 [00:01<00:00,  5.49it/s]\n",
      "100%|██████████| 30/30 [00:00<00:00, 96346.95it/s]\n",
      "30it [00:00, 83607.39it/s]\n"
     ]
    },
    {
     "name": "stdout",
     "output_type": "stream",
     "text": [
      "Epoch 99: 100%|██████████| 55/55 [00:00<00:00, 412.37it/s, v_num=12, train_loss_step=0.000479, val_loss=0.000784, train_loss_epoch=0.000447]\n"
     ]
    },
    {
     "name": "stderr",
     "output_type": "stream",
     "text": [
      "100%|██████████| 7/7 [00:01<00:00,  5.39it/s]\n",
      "100%|██████████| 30/30 [00:00<00:00, 97240.43it/s]\n",
      "30it [00:00, 74323.17it/s]\n"
     ]
    },
    {
     "name": "stdout",
     "output_type": "stream",
     "text": [
      "Epoch 99: 100%|██████████| 55/55 [00:00<00:00, 293.98it/s, v_num=13, train_loss_step=0.000481, val_loss=0.000772, train_loss_epoch=0.000439]\n"
     ]
    },
    {
     "name": "stderr",
     "output_type": "stream",
     "text": [
      "100%|██████████| 7/7 [00:01<00:00,  5.78it/s]\n",
      "100%|██████████| 30/30 [00:00<00:00, 116293.09it/s]\n",
      "30it [00:00, 76725.07it/s]\n"
     ]
    },
    {
     "name": "stdout",
     "output_type": "stream",
     "text": [
      "Epoch 99: 100%|██████████| 55/55 [00:00<00:00, 348.72it/s, v_num=14, train_loss_step=0.000403, val_loss=0.000716, train_loss_epoch=0.000518]\n"
     ]
    },
    {
     "name": "stderr",
     "output_type": "stream",
     "text": [
      "100%|██████████| 7/7 [00:01<00:00,  5.22it/s]\n",
      "100%|██████████| 30/30 [00:00<00:00, 103648.37it/s]\n",
      "30it [00:00, 107638.25it/s]\n"
     ]
    },
    {
     "name": "stdout",
     "output_type": "stream",
     "text": [
      "Epoch 99: 100%|██████████| 55/55 [00:00<00:00, 372.44it/s, v_num=15, train_loss_step=0.000471, val_loss=0.00121, train_loss_epoch=0.000407] \n"
     ]
    },
    {
     "name": "stderr",
     "output_type": "stream",
     "text": [
      "100%|██████████| 7/7 [00:01<00:00,  5.47it/s]\n",
      "100%|██████████| 30/30 [00:00<00:00, 111058.36it/s]\n",
      "30it [00:00, 102383.34it/s]\n"
     ]
    },
    {
     "name": "stdout",
     "output_type": "stream",
     "text": [
      "Epoch 99: 100%|██████████| 55/55 [00:00<00:00, 405.03it/s, v_num=16, train_loss_step=0.000664, val_loss=0.000861, train_loss_epoch=0.000598]\n"
     ]
    },
    {
     "name": "stderr",
     "output_type": "stream",
     "text": [
      "100%|██████████| 7/7 [00:01<00:00,  5.53it/s]\n",
      "100%|██████████| 30/30 [00:00<00:00, 111947.62it/s]\n",
      "30it [00:00, 71331.70it/s]\n"
     ]
    },
    {
     "name": "stdout",
     "output_type": "stream",
     "text": [
      "Epoch 99: 100%|██████████| 55/55 [00:00<00:00, 384.69it/s, v_num=17, train_loss_step=0.000564, val_loss=0.000807, train_loss_epoch=0.000544]\n"
     ]
    },
    {
     "name": "stderr",
     "output_type": "stream",
     "text": [
      "100%|██████████| 7/7 [00:01<00:00,  5.48it/s]\n",
      "100%|██████████| 30/30 [00:00<00:00, 107454.42it/s]\n",
      "30it [00:00, 74942.89it/s]\n"
     ]
    },
    {
     "name": "stdout",
     "output_type": "stream",
     "text": [
      "Epoch 99: 100%|██████████| 55/55 [00:00<00:00, 365.44it/s, v_num=18, train_loss_step=0.000474, val_loss=0.000786, train_loss_epoch=0.000398]\n"
     ]
    },
    {
     "name": "stderr",
     "output_type": "stream",
     "text": [
      "100%|██████████| 7/7 [00:01<00:00,  5.46it/s]\n",
      "100%|██████████| 30/30 [00:00<00:00, 109321.56it/s]\n",
      "30it [00:00, 108848.72it/s]\n"
     ]
    },
    {
     "name": "stdout",
     "output_type": "stream",
     "text": [
      "Epoch 99: 100%|██████████| 55/55 [00:00<00:00, 363.18it/s, v_num=19, train_loss_step=0.000435, val_loss=0.000751, train_loss_epoch=0.000469]\n"
     ]
    },
    {
     "name": "stderr",
     "output_type": "stream",
     "text": [
      "100%|██████████| 7/7 [00:01<00:00,  5.55it/s]\n",
      "100%|██████████| 30/30 [00:00<00:00, 107454.42it/s]\n",
      "30it [00:00, 111451.83it/s]\n"
     ]
    },
    {
     "name": "stdout",
     "output_type": "stream",
     "text": [
      "Epoch 99: 100%|██████████| 55/55 [00:00<00:00, 203.60it/s, v_num=20, train_loss_step=0.000695, val_loss=0.000914, train_loss_epoch=0.000484]\n"
     ]
    },
    {
     "name": "stderr",
     "output_type": "stream",
     "text": [
      "100%|██████████| 7/7 [00:01<00:00,  5.53it/s]\n",
      "100%|██████████| 30/30 [00:00<00:00, 101721.20it/s]\n",
      "30it [00:00, 116078.52it/s]\n"
     ]
    },
    {
     "name": "stdout",
     "output_type": "stream",
     "text": [
      "Epoch 99: 100%|██████████| 55/55 [00:00<00:00, 390.60it/s, v_num=21, train_loss_step=0.000297, val_loss=0.000778, train_loss_epoch=0.000438]\n"
     ]
    },
    {
     "name": "stderr",
     "output_type": "stream",
     "text": [
      "100%|██████████| 7/7 [00:01<00:00,  5.44it/s]\n",
      "100%|██████████| 30/30 [00:00<00:00, 84449.07it/s]\n",
      "30it [00:00, 76352.62it/s]\n"
     ]
    },
    {
     "name": "stdout",
     "output_type": "stream",
     "text": [
      "Epoch 99: 100%|██████████| 55/55 [00:00<00:00, 365.91it/s, v_num=22, train_loss_step=0.000329, val_loss=0.00066, train_loss_epoch=0.00047]  \n"
     ]
    },
    {
     "name": "stderr",
     "output_type": "stream",
     "text": [
      "100%|██████████| 7/7 [00:01<00:00,  5.57it/s]\n"
     ]
    }
   ],
   "source": [
    "for seed in range(1, 21):\n",
    "    train_and_explain(seed, func_num=1, model_type='nn', knockoff='knockoffsdiag', explainer='eg')"
   ]
  },
  {
   "cell_type": "markdown",
   "metadata": {},
   "source": [
    "## Step 3: Perform FDR Control"
   ]
  },
  {
   "cell_type": "markdown",
   "metadata": {},
   "source": [
    "To perform calibration and FDR control, follow these steps using the provided code snippet:\n",
    "\n",
    "1. **Set the Data Directory:**  \n",
    "   Define the `data_dir` variable to point to the directory containing the explanations generated in the previous step.\n",
    "\n",
    "2. **Set the Target FDR Level:**  \n",
    "   Specify the `target_fdr` variable to set the desired false discovery rate (FDR) level.\n",
    "\n",
    "After running the code, the FDR control results will be saved in the `{data_dir}/fdr_control` directory.\n"
   ]
  },
  {
   "cell_type": "code",
   "execution_count": 4,
   "metadata": {},
   "outputs": [
    {
     "name": "stdout",
     "output_type": "stream",
     "text": [
      "Running FDR control\n"
     ]
    },
    {
     "name": "stderr",
     "output_type": "stream",
     "text": [
      "100%|██████████| 20/20 [00:43<00:00,  2.17s/it]\n"
     ]
    }
   ],
   "source": [
    "fdr_control(data_dir='../output/simulation/nn_knockoffsdiag_eg', target_fdr=0.2)"
   ]
  },
  {
   "cell_type": "markdown",
   "metadata": {},
   "source": [
    "## Step 4: Visualize the Results"
   ]
  },
  {
   "cell_type": "markdown",
   "metadata": {},
   "source": [
    "To visualize the results, run the provided code snippet. \n",
    "This will generate plots illustrating the FDR control results.\n",
    "The plots will be saved in the `{data_dir}/fdr_control/figures` directory."
   ]
  },
  {
   "cell_type": "code",
   "execution_count": 5,
   "metadata": {},
   "outputs": [
    {
     "name": "stdout",
     "output_type": "stream",
     "text": [
      "Loaded existing data\n",
      "Top 10 F1 calibrated_q_values\n",
      "feature_1 - feature_6 0.05\n",
      "feature_0 - feature_2 0.061403508771929814\n",
      "feature_6 - feature_8 0.07916666666666666\n",
      "feature_1 - feature_2 0.0875\n",
      "feature_0 - feature_1 0.1\n",
      "feature_8 - feature_9 0.2363888888888889\n",
      "feature_2 - feature_4 0.5753864775575301\n",
      "feature_7 - feature_8 0.7840025252525253\n",
      "feature_1 - feature_23 0.7911549707602339\n",
      "feature_1 - feature_17 0.7931845238095238\n"
     ]
    }
   ],
   "source": [
    "visualize_results(data_dir='../output/simulation/nn_knockoffsdiag_eg')"
   ]
  }
 ],
 "metadata": {
  "kernelspec": {
   "display_name": "base",
   "language": "python",
   "name": "python3"
  },
  "language_info": {
   "codemirror_mode": {
    "name": "ipython",
    "version": 3
   },
   "file_extension": ".py",
   "mimetype": "text/x-python",
   "name": "python",
   "nbconvert_exporter": "python",
   "pygments_lexer": "ipython3",
   "version": "3.11.5"
  }
 },
 "nbformat": 4,
 "nbformat_minor": 2
}
