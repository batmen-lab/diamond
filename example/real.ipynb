{
 "cells": [
  {
   "cell_type": "markdown",
   "metadata": {},
   "source": [
    "## Step 1: Import Libraries"
   ]
  },
  {
   "cell_type": "code",
   "execution_count": 1,
   "metadata": {},
   "outputs": [
    {
     "name": "stderr",
     "output_type": "stream",
     "text": [
      "IProgress not found. Please update jupyter and ipywidgets. See https://ipywidgets.readthedocs.io/en/stable/user_install.html\n",
      "2024-08-01 21:13:51.171425: I tensorflow/core/platform/cpu_feature_guard.cc:182] This TensorFlow binary is optimized to use available CPU instructions in performance-critical operations.\n",
      "To enable the following instructions: SSE4.1 SSE4.2 AVX AVX2 AVX_VNNI FMA, in other operations, rebuild TensorFlow with the appropriate compiler flags.\n"
     ]
    },
    {
     "name": "stdout",
     "output_type": "stream",
     "text": [
      "WARNING:tensorflow:From /home/yifan/miniconda3/envs/batmen/lib/python3.11/site-packages/tensorflow/python/compat/v2_compat.py:107: disable_resource_variables (from tensorflow.python.ops.variable_scope) is deprecated and will be removed in a future version.\n",
      "Instructions for updating:\n",
      "non-resource variables are not supported in the long term\n"
     ]
    },
    {
     "name": "stderr",
     "output_type": "stream",
     "text": [
      "WARNING:tensorflow:From /home/yifan/miniconda3/envs/batmen/lib/python3.11/site-packages/tensorflow/python/compat/v2_compat.py:107: disable_resource_variables (from tensorflow.python.ops.variable_scope) is deprecated and will be removed in a future version.\n",
      "Instructions for updating:\n",
      "non-resource variables are not supported in the long term\n"
     ]
    }
   ],
   "source": [
    "import sys\n",
    "import warnings\n",
    "\n",
    "warnings.filterwarnings(\"ignore\", message=\".*The 'nopython' keyword.*\")\n",
    "sys.path.insert(1, '../src/')\n",
    "\n",
    "from fdr_control import fdr_control\n",
    "from real import train_and_explain\n",
    "from visualize_results import visualize_results"
   ]
  },
  {
   "cell_type": "markdown",
   "metadata": {},
   "source": [
    "## Step 2: Train and Explain the Model"
   ]
  },
  {
   "cell_type": "markdown",
   "metadata": {},
   "source": [
    "To train and explain your chosen model using the provided code snippet, follow these steps:\n",
    "\n",
    "1. **Set Dataset:**\n",
    "   Set the `dataset` argument to the dataset you want to use. The available datasets are:\n",
    "   - `enhancer`: Drosophila enhancers\n",
    "   - `mortality`: Mortality\n",
    "   - `diabetes`: Diabetes\n",
    "   - `cal_housing`: California Housing\n",
    "\n",
    "2. **Select Model Type:**  \n",
    "   Set the `model_type` argument to the model you prefer. The available models are:\n",
    "   - `nn`: Neural Network\n",
    "   - `lightgbm`: LightGBM\n",
    "   - `xgboost`: XGBoost\n",
    "   - `fm`: Factorization Machine\n",
    "\n",
    "3. **Choose Explanation Method (for Neural Networks):**  \n",
    "   If using neural networks, set the `explainer` argument to one of the following:\n",
    "   - `eg`: Expected Gradients / Hessian\n",
    "   - `ig`: Integrated Gradients / Hessian\n",
    "   - `topo`: Network Topology-based Explanation\n",
    "\n",
    "4. **Select Knockoff Generation Method:**  \n",
    "   Set the `knockoff` argument to the preferred method. The supported methods include:\n",
    "   - `knockoffgan`: KnockoffGAN\n",
    "   - `deepknockoffs`: DeepKnockoffs\n",
    "   - `vaeknockoff`: VAEKnockoff\n",
    "   - `knockoffsdiag`: KnockoffsDiagnostics\n",
    "\n",
    "After running the code, the explanations will be saved in the `output/real/{dataset}/{model_type}_{knockoff}` or `output/real/{dataset}/{model_type}_{knockoff}_{explainer}` directory based on the model and knockoff method used."
   ]
  },
  {
   "cell_type": "code",
   "execution_count": 2,
   "metadata": {},
   "outputs": [
    {
     "name": "stderr",
     "output_type": "stream",
     "text": [
      "100%|██████████| 10/10 [00:00<00:00, 908.02it/s]\n",
      "10it [00:00, 18016.77it/s]\n"
     ]
    },
    {
     "name": "stdout",
     "output_type": "stream",
     "text": [
      "Device: cuda\n"
     ]
    },
    {
     "name": "stderr",
     "output_type": "stream",
     "text": [
      "100%|██████████| 10/10 [00:00<00:00, 38026.33it/s]\n",
      "10it [00:00, 28552.10it/s]\n"
     ]
    },
    {
     "name": "stdout",
     "output_type": "stream",
     "text": [
      "Device: cuda\n"
     ]
    },
    {
     "name": "stderr",
     "output_type": "stream",
     "text": [
      "100%|██████████| 10/10 [00:00<00:00, 37449.14it/s]\n",
      "10it [00:00, 22869.71it/s]\n"
     ]
    },
    {
     "name": "stdout",
     "output_type": "stream",
     "text": [
      "Device: cuda\n"
     ]
    },
    {
     "name": "stderr",
     "output_type": "stream",
     "text": [
      "100%|██████████| 10/10 [00:00<00:00, 33527.61it/s]\n",
      "10it [00:00, 39162.50it/s]\n"
     ]
    },
    {
     "name": "stdout",
     "output_type": "stream",
     "text": [
      "Device: cuda\n"
     ]
    },
    {
     "name": "stderr",
     "output_type": "stream",
     "text": [
      "100%|██████████| 10/10 [00:00<00:00, 45197.24it/s]\n",
      "10it [00:00, 48377.21it/s]\n"
     ]
    },
    {
     "name": "stdout",
     "output_type": "stream",
     "text": [
      "Device: cuda\n"
     ]
    },
    {
     "name": "stderr",
     "output_type": "stream",
     "text": [
      "100%|██████████| 10/10 [00:00<00:00, 33078.11it/s]\n",
      "10it [00:00, 38095.40it/s]\n"
     ]
    },
    {
     "name": "stdout",
     "output_type": "stream",
     "text": [
      "Device: cuda\n"
     ]
    },
    {
     "name": "stderr",
     "output_type": "stream",
     "text": [
      "100%|██████████| 10/10 [00:00<00:00, 30840.47it/s]\n",
      "10it [00:00, 40524.68it/s]\n"
     ]
    },
    {
     "name": "stdout",
     "output_type": "stream",
     "text": [
      "Device: cuda\n"
     ]
    },
    {
     "name": "stderr",
     "output_type": "stream",
     "text": [
      "100%|██████████| 10/10 [00:00<00:00, 47339.77it/s]\n",
      "10it [00:00, 51275.11it/s]\n"
     ]
    },
    {
     "name": "stdout",
     "output_type": "stream",
     "text": [
      "Device: cuda\n"
     ]
    },
    {
     "name": "stderr",
     "output_type": "stream",
     "text": [
      "100%|██████████| 10/10 [00:00<00:00, 34749.83it/s]\n",
      "10it [00:00, 31161.25it/s]\n"
     ]
    },
    {
     "name": "stdout",
     "output_type": "stream",
     "text": [
      "Device: cuda\n"
     ]
    },
    {
     "name": "stderr",
     "output_type": "stream",
     "text": [
      "100%|██████████| 10/10 [00:00<00:00, 32066.54it/s]\n",
      "10it [00:00, 38515.19it/s]\n"
     ]
    },
    {
     "name": "stdout",
     "output_type": "stream",
     "text": [
      "Device: cuda\n"
     ]
    },
    {
     "name": "stderr",
     "output_type": "stream",
     "text": [
      "100%|██████████| 10/10 [00:00<00:00, 43151.28it/s]\n",
      "10it [00:00, 35246.25it/s]\n"
     ]
    },
    {
     "name": "stdout",
     "output_type": "stream",
     "text": [
      "Device: cuda\n"
     ]
    },
    {
     "name": "stderr",
     "output_type": "stream",
     "text": [
      "100%|██████████| 10/10 [00:00<00:00, 47989.75it/s]\n",
      "10it [00:00, 38095.40it/s]\n"
     ]
    },
    {
     "name": "stdout",
     "output_type": "stream",
     "text": [
      "Device: cuda\n"
     ]
    },
    {
     "name": "stderr",
     "output_type": "stream",
     "text": [
      "100%|██████████| 10/10 [00:00<00:00, 34127.78it/s]\n",
      "10it [00:00, 40060.21it/s]\n"
     ]
    },
    {
     "name": "stdout",
     "output_type": "stream",
     "text": [
      "Device: cuda\n"
     ]
    },
    {
     "name": "stderr",
     "output_type": "stream",
     "text": [
      "100%|██████████| 10/10 [00:00<00:00, 43018.50it/s]\n",
      "10it [00:00, 34100.03it/s]\n"
     ]
    },
    {
     "name": "stdout",
     "output_type": "stream",
     "text": [
      "Device: cuda\n"
     ]
    },
    {
     "name": "stderr",
     "output_type": "stream",
     "text": [
      "100%|██████████| 10/10 [00:00<00:00, 36503.95it/s]\n",
      "10it [00:00, 53092.46it/s]\n"
     ]
    },
    {
     "name": "stdout",
     "output_type": "stream",
     "text": [
      "Device: cuda\n"
     ]
    },
    {
     "name": "stderr",
     "output_type": "stream",
     "text": [
      "100%|██████████| 10/10 [00:00<00:00, 29351.32it/s]\n",
      "10it [00:00, 35187.11it/s]\n"
     ]
    },
    {
     "name": "stdout",
     "output_type": "stream",
     "text": [
      "Device: cuda\n"
     ]
    },
    {
     "name": "stderr",
     "output_type": "stream",
     "text": [
      "100%|██████████| 10/10 [00:00<00:00, 40485.56it/s]\n",
      "10it [00:00, 29579.01it/s]\n"
     ]
    },
    {
     "name": "stdout",
     "output_type": "stream",
     "text": [
      "Device: cuda\n"
     ]
    },
    {
     "name": "stderr",
     "output_type": "stream",
     "text": [
      "100%|██████████| 10/10 [00:00<00:00, 48770.98it/s]\n",
      "10it [00:00, 43284.87it/s]\n"
     ]
    },
    {
     "name": "stdout",
     "output_type": "stream",
     "text": [
      "Device: cuda\n"
     ]
    },
    {
     "name": "stderr",
     "output_type": "stream",
     "text": [
      "100%|██████████| 10/10 [00:00<00:00, 48714.33it/s]\n",
      "10it [00:00, 47771.12it/s]\n"
     ]
    },
    {
     "name": "stdout",
     "output_type": "stream",
     "text": [
      "Device: cuda\n"
     ]
    },
    {
     "name": "stderr",
     "output_type": "stream",
     "text": [
      "100%|██████████| 10/10 [00:00<00:00, 42452.47it/s]\n",
      "10it [00:00, 45051.60it/s]\n"
     ]
    },
    {
     "name": "stdout",
     "output_type": "stream",
     "text": [
      "Device: cuda\n"
     ]
    }
   ],
   "source": [
    "for seed in range(1, 21):\n",
    "    save_local = True if seed == 1 else False\n",
    "    train_and_explain(seed, dataset='diabetes', model_type='xgboost', knockoff='knockoffsdiag', save_local=save_local)"
   ]
  },
  {
   "cell_type": "markdown",
   "metadata": {},
   "source": [
    "## Step 3: Perform FDR Control"
   ]
  },
  {
   "cell_type": "markdown",
   "metadata": {},
   "source": [
    "To perform calibration and FDR control, follow these steps using the provided code snippet:\n",
    "\n",
    "1. **Set the Data Directory:**  \n",
    "   Define the `data_dir` variable to point to the directory containing the explanations generated in the previous step.\n",
    "\n",
    "2. **Set the Target FDR Level:**  \n",
    "   Specify the `target_fdr` variable to set the desired false discovery rate (FDR) level.\n",
    "\n",
    "After running the code, the FDR control results will be saved in the `{data_dir}/fdr_control` directory.\n"
   ]
  },
  {
   "cell_type": "code",
   "execution_count": 3,
   "metadata": {},
   "outputs": [
    {
     "name": "stdout",
     "output_type": "stream",
     "text": [
      "Running FDR control\n"
     ]
    },
    {
     "name": "stderr",
     "output_type": "stream",
     "text": [
      "100%|██████████| 20/20 [00:04<00:00,  4.48it/s]\n"
     ]
    }
   ],
   "source": [
    "fdr_control(data_dir='../output/real/diabetes/xgboost_knockoffsdiag', target_fdr=0.2)"
   ]
  },
  {
   "cell_type": "markdown",
   "metadata": {},
   "source": [
    "## Step 4: Visualize the Results"
   ]
  },
  {
   "cell_type": "markdown",
   "metadata": {},
   "source": [
    "To visualize the results, run the provided code snippet. \n",
    "This will generate plots illustrating the FDR control results.\n",
    "The plots will be saved in the `{data_dir}/fdr_control/figures` directory."
   ]
  },
  {
   "cell_type": "code",
   "execution_count": 4,
   "metadata": {},
   "outputs": [
    {
     "name": "stdout",
     "output_type": "stream",
     "text": [
      "Loaded existing data\n",
      "Top 10 diabetes calibrated_q_values\n",
      "bmi - s5 0.55\n",
      "bmi - s4 1.0\n",
      "age - bp 1.0\n",
      "age - s1 1.0\n",
      "age - s2 1.0\n",
      "age - s3 1.0\n",
      "age - s4 1.0\n",
      "age - s5 1.0\n",
      "age - s6 1.0\n",
      "sex - bmi 1.0\n"
     ]
    }
   ],
   "source": [
    "visualize_results(data_dir='../output/real/diabetes/xgboost_knockoffsdiag')"
   ]
  }
 ],
 "metadata": {
  "kernelspec": {
   "display_name": "base",
   "language": "python",
   "name": "python3"
  },
  "language_info": {
   "codemirror_mode": {
    "name": "ipython",
    "version": 3
   },
   "file_extension": ".py",
   "mimetype": "text/x-python",
   "name": "python",
   "nbconvert_exporter": "python",
   "pygments_lexer": "ipython3",
   "version": "3.11.5"
  }
 },
 "nbformat": 4,
 "nbformat_minor": 2
}
